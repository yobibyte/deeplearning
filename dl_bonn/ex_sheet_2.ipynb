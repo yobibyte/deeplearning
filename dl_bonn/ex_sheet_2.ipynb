{
 "cells": [
  {
   "cell_type": "code",
   "execution_count": 2,
   "metadata": {
    "collapsed": true
   },
   "outputs": [],
   "source": [
    "import tensorflow as tf\n",
    "import numpy as np\n",
    "import math"
   ]
  },
  {
   "cell_type": "markdown",
   "metadata": {},
   "source": [
    "### Task 1. Setting Up (make the function for creating NN with arbitrary number of layers)"
   ]
  },
  {
   "cell_type": "code",
   "execution_count": 18,
   "metadata": {
    "collapsed": false
   },
   "outputs": [
    {
     "name": "stdout",
     "output_type": "stream",
     "text": [
      "epoch 0\n",
      "[ 0.] [[ 0.05029192  0.31697556  0.81598675]]\n",
      "[ 1.] [[ 0.03818112  0.56280208  0.70090699]]\n",
      "[ 1.] [[ 0.09215762  0.64793426  0.84321618]]\n",
      "[ 0.] [[ 0.0960271   0.73154879  0.76762336]]\n",
      "0.340073\n",
      "epoch 10000\n",
      "[ 0.] [[ 0.00104507  0.00069627  0.00132268]]\n",
      "[ 1.] [[ 0.99838436  0.9990682   0.99854445]]\n",
      "[ 1.] [[ 0.99840337  0.99907613  0.99855989]]\n",
      "[ 0.] [[ 0.00182455  0.00102691  0.0013974 ]]\n",
      "1.72805e-06\n",
      "epoch 20000\n",
      "[ 0.] [[  9.12655159e-05   6.41670558e-05   1.12249516e-04]]\n",
      "[ 1.] [[ 0.99986458  0.99992096  0.99987841]]\n",
      "[ 1.] [[ 0.99986565  0.99992144  0.99987936]]\n",
      "[ 0.] [[  1.51911881e-04   8.39125423e-05   1.15453819e-04]]\n",
      "1.22201e-08\n"
     ]
    }
   ],
   "source": [
    "def xavier(n_in, n_out):\n",
    "    init_range = 4*math.sqrt(6.0/(n_in + n_out))\n",
    "    return tf.random_uniform([n_in, n_out], -init_range, init_range)\n",
    "\n",
    "def make_net(n_in, n_out, hid_sizes, activ_hid, activ_out, X):\n",
    "    W = tf.Variable(xavier(n_in, hid_sizes[0]))\n",
    "    b = tf.Variable(np.zeros(hid_sizes[0], dtype=\"float32\"))\n",
    "    hidden = activ_hid(tf.matmul(X, W) + b)\n",
    "    for i in range(1, len(hid_sizes)-1):\n",
    "        W = tf.Variable(xavier(hid_sizes[i-1], hid_sizes[i]))\n",
    "        b = tf.Variable(np.zeros(hid_sizes[i], dtype=\"float32\"))\n",
    "        hidden = activ_hid(tf.matmul(hidden, W) + b)    \n",
    "    W = tf.Variable(xavier(hid_sizes[-2], hid_sizes[-1]))\n",
    "    b = tf.Variable(np.zeros(hid_sizes[-1], dtype=\"float32\"))\n",
    "    return activ_out(tf.matmul(hidden, W) + b)\n",
    "    \n",
    "    \n",
    "Xi = np.array([[0.0,0.0], [0.0,1.0], [1.0,0.0], [1.0,1.0]])\n",
    "Yi = np.array([[0.0], [1.0], [1.0], [0.0]])\n",
    "learning_rate = 0.01\n",
    "epochs = 30000\n",
    "\n",
    "n_in = 2\n",
    "n_out = 1\n",
    "X = tf.placeholder(\"float32\", [None, n_in])\n",
    "Y = tf.placeholder(\"float32\", [None, n_out])\n",
    "out = make_net(n_in, n_out, [10,5,3], tf.nn.sigmoid, tf.nn.sigmoid, X)\n",
    "loss = tf.reduce_mean(tf.square(Y - out))\n",
    "optimizer = tf.train.AdamOptimizer(learning_rate)\n",
    "train = optimizer.minimize(loss)\n",
    "\n",
    "with tf.Session() as sess:\n",
    "    tf.initialize_all_variables().run()\n",
    "    for i in range(epochs):\n",
    "        perm = np.random.permutation(range(4))\n",
    "        sess.run(train, feed_dict={X: Xi[perm], Y: Yi[perm]})\n",
    "        if i%10000 == 0:\n",
    "            print(\"epoch %s\"% (i))\n",
    "            print(Yi[0], sess.run(out, feed_dict={X:[Xi[0]]}))\n",
    "            print(Yi[1], sess.run(out, feed_dict={X:[Xi[1]]}))\n",
    "            print(Yi[2], sess.run(out, feed_dict={X:[Xi[2]]}))\n",
    "            print(Yi[3], sess.run(out, feed_dict={X:[Xi[3]]}))\n",
    "            print(sess.run(loss,feed_dict={X: Xi[perm], Y: Yi[perm]}))"
   ]
  },
  {
   "cell_type": "code",
   "execution_count": null,
   "metadata": {
    "collapsed": false
   },
   "outputs": [],
   "source": []
  }
 ],
 "metadata": {
  "kernelspec": {
   "display_name": "Python 3",
   "language": "python",
   "name": "python3"
  },
  "language_info": {
   "codemirror_mode": {
    "name": "ipython",
    "version": 3
   },
   "file_extension": ".py",
   "mimetype": "text/x-python",
   "name": "python",
   "nbconvert_exporter": "python",
   "pygments_lexer": "ipython3",
   "version": "3.4.3+"
  }
 },
 "nbformat": 4,
 "nbformat_minor": 0
}
