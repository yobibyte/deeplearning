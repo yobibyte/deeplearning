{
 "cells": [
  {
   "cell_type": "code",
   "execution_count": 63,
   "metadata": {
    "collapsed": true
   },
   "outputs": [],
   "source": [
    "import tensorflow as tf\n",
    "import numpy as np"
   ]
  },
  {
   "cell_type": "code",
   "execution_count": 64,
   "metadata": {
    "collapsed": false
   },
   "outputs": [],
   "source": [
    "# Create 100 phony x, y data points in NumPy, y = x * 0.1 + 0.3\n",
    "nb_pts = 100\n",
    "x_data = np.random.rand(nb_pts).astype(np.float32)\n",
    "y_random = 0.02 * np.random.randn(nb_pts).astype(np.float32)\n",
    "y_data = x_data * 0.1 + 0.3 + y_random\n",
    "\n",
    "# Try to find values for W and b that compute y_data = W * x_data + b\n",
    "# (We know that W should be 0.1 and b 0.3, but Tensorflow will\n",
    "# figure that out for us.)\n",
    "W = tf.Variable(tf.random_uniform([1], -1.0, 1.0))\n",
    "b = tf.Variable(tf.zeros([1]))\n",
    "y = tf.nn.sigmoid(W * x_data + b)"
   ]
  },
  {
   "cell_type": "code",
   "execution_count": 65,
   "metadata": {
    "collapsed": true
   },
   "outputs": [],
   "source": [
    "# Minimize the mean squared errors.\n",
    "loss = tf.reduce_mean(tf.square(y - y_data))\n",
    "optimizer = tf.train.GradientDescentOptimizer(0.5)\n",
    "train = optimizer.minimize(loss)"
   ]
  },
  {
   "cell_type": "code",
   "execution_count": 66,
   "metadata": {
    "collapsed": true
   },
   "outputs": [],
   "source": [
    "# Before starting, initialize the variables.  We will 'run' this first.\n",
    "init = tf.initialize_all_variables()"
   ]
  },
  {
   "cell_type": "code",
   "execution_count": 67,
   "metadata": {
    "collapsed": true
   },
   "outputs": [],
   "source": [
    "# Launch the graph.\n",
    "sess = tf.Session()\n",
    "sess.run(init)"
   ]
  },
  {
   "cell_type": "code",
   "execution_count": 68,
   "metadata": {
    "collapsed": false
   },
   "outputs": [
    {
     "data": {
      "text/plain": [
       "array([ 0.], dtype=float32)"
      ]
     },
     "execution_count": 68,
     "metadata": {},
     "output_type": "execute_result"
    }
   ],
   "source": [
    "sess.run(b)"
   ]
  },
  {
   "cell_type": "code",
   "execution_count": 69,
   "metadata": {
    "collapsed": false
   },
   "outputs": [
    {
     "name": "stdout",
     "output_type": "stream",
     "text": [
      "0 [-0.40486217] [-0.02530358]\n",
      "20 [-0.43923661] [-0.29182592]\n",
      "40 [-0.39190471] [-0.38259885]\n",
      "60 [-0.33048105] [-0.43080294]\n",
      "80 [-0.2693114] [-0.46628445]\n",
      "100 [-0.21179868] [-0.49681345]\n",
      "120 [-0.158573] [-0.52454001]\n",
      "140 [-0.10953761] [-0.55012125]\n",
      "160 [-0.06441866] [-0.57381696]\n",
      "180 [-0.02291346] [-0.59578007]\n",
      "200 [ 0.01527028] [-0.61613339]\n"
     ]
    }
   ],
   "source": [
    "# Fit the line.\n",
    "for step in range(201):\n",
    "    sess.run(train)\n",
    "    if step % 20 == 0:\n",
    "        print(step, sess.run(W), sess.run(b))"
   ]
  },
  {
   "cell_type": "code",
   "execution_count": 70,
   "metadata": {
    "collapsed": false
   },
   "outputs": [],
   "source": [
    "import matplotlib.pyplot as plt\n",
    "%matplotlib inline"
   ]
  },
  {
   "cell_type": "code",
   "execution_count": 71,
   "metadata": {
    "collapsed": false
   },
   "outputs": [
    {
     "data": {
      "text/plain": [
       "[<matplotlib.lines.Line2D at 0x10c8977b8>]"
      ]
     },
     "execution_count": 71,
     "metadata": {},
     "output_type": "execute_result"
    },
    {
     "name": "stderr",
     "output_type": "stream",
     "text": [
      "/Library/Frameworks/Python.framework/Versions/3.4/lib/python3.4/site-packages/matplotlib/collections.py:590: FutureWarning: elementwise comparison failed; returning scalar instead, but in the future will perform elementwise comparison\n",
      "  if self._edgecolors == str('face'):\n"
     ]
    },
    {
     "data": {
      "image/png": "[encoded data removed]",
      "text/plain": [
       "<matplotlib.figure.Figure at 0x10c8972e8>"
      ]
     },
     "metadata": {},
     "output_type": "display_data"
    }
   ],
   "source": [
    "#TASK 1\n",
    "#Change linear function in the example to sigmoid and plot it\n",
    "plt.scatter(x_data, y_data)\n",
    "xlim = myplot.axes.get_xlim()\n",
    "r = sess.run(y)\n",
    "plt.plot(x_data, r, 'r')"
   ]
  },
  {
   "cell_type": "code",
   "execution_count": 72,
   "metadata": {
    "collapsed": true
   },
   "outputs": [],
   "source": [
    "#TASK 1 --Continues--\n",
    "#Create 20 randomly perturbed versions of the following data. ???"
   ]
  },
  {
   "cell_type": "markdown",
   "metadata": {},
   "source": [
    "### Task 2. XOR."
   ]
  },
  {
   "cell_type": "code",
   "execution_count": 199,
   "metadata": {
    "collapsed": false
   },
   "outputs": [
    {
     "name": "stdout",
     "output_type": "stream",
     "text": [
      "epoch 0\n",
      "[ 0.] [[ 0.99192894]]\n",
      "[ 1.] [[ 0.99487406]]\n",
      "[ 1.] [[ 0.96401048]]\n",
      "[ 0.] [[ 0.98126608]]\n",
      "0.487032\n",
      "epoch 10000\n",
      "[ 0.] [[ 0.00052516]]\n",
      "[ 1.] [[ 0.99940324]]\n",
      "[ 1.] [[ 0.99937505]]\n",
      "[ 0.] [[ 0.00068216]]\n",
      "3.71956e-07\n",
      "epoch 20000\n",
      "[ 0.] [[  3.86160391e-05]]\n",
      "[ 1.] [[ 0.99995542]]\n",
      "[ 1.] [[ 0.99995303]]\n",
      "[ 0.] [[  5.16665496e-05]]\n",
      "2.0886e-09\n"
     ]
    }
   ],
   "source": [
    "import math\n",
    "\n",
    "Xi = np.array([[0.0,0.0], [0.0,1.0], [1.0,0.0], [1.0,1.0]])\n",
    "Yi = np.array([[0.0], [1.0], [1.0], [0.0]])\n",
    "learning_rate = 0.01\n",
    "epochs = 30000\n",
    "\n",
    "def xavier(n_in, n_out):\n",
    "    init_range = 4*math.sqrt(6.0/(n_in + n_out))\n",
    "    return tf.random_uniform([n_in, n_out], -init_range, init_range)\n",
    "\n",
    "w_h = tf.Variable(xavier(2, 100))\n",
    "w_o = tf.Variable(xavier(100, 1))\n",
    "b_h = tf.Variable(np.zeros(100, dtype=\"float32\"))\n",
    "b_o = tf.Variable(0.0)\n",
    "\n",
    "X = tf.placeholder(\"float32\", [None, 2])\n",
    "Y = tf.placeholder(\"float32\", [None, 1])\n",
    "\n",
    "hidden = tf.nn.sigmoid(tf.matmul(X, w_h) + b_h)\n",
    "out    = tf.nn.sigmoid(tf.matmul(hidden, w_o) + b_o)\n",
    "loss = tf.reduce_mean(tf.square(Y - out))\n",
    "optimizer = tf.train.AdamOptimizer(learning_rate)\n",
    "train = optimizer.minimize(loss)\n",
    "\n",
    "with tf.Session() as sess:\n",
    "    tf.initialize_all_variables().run()\n",
    "    for i in range(epochs):\n",
    "        perm = np.random.permutation(range(4))\n",
    "        sess.run(train, feed_dict={X: Xi[perm], Y: Yi[perm]})\n",
    "        if i%10000 == 0:\n",
    "            print(\"epoch %s\"% (i))\n",
    "            print(Yi[0], sess.run(out, feed_dict={X:[Xi[0]]}))\n",
    "            print(Yi[1], sess.run(out, feed_dict={X:[Xi[1]]}))\n",
    "            print(Yi[2], sess.run(out, feed_dict={X:[Xi[2]]}))\n",
    "            print(Yi[3], sess.run(out, feed_dict={X:[Xi[3]]}))\n",
    "            print(sess.run(loss,feed_dict={X: Xi[perm], Y: Yi[perm]}))"
   ]
  }
 ],
 "metadata": {
  "kernelspec": {
   "display_name": "Python 3",
   "language": "python",
   "name": "python3"
  },
  "language_info": {
   "codemirror_mode": {
    "name": "ipython",
    "version": 3
   },
   "file_extension": ".py",
   "mimetype": "text/x-python",
   "name": "python",
   "nbconvert_exporter": "python",
   "pygments_lexer": "ipython3",
   "version": "3.4.2"
  }
 },
 "nbformat": 4,
 "nbformat_minor": 0
}
