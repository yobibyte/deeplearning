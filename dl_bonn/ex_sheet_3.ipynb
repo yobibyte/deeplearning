{
 "cells": [
  {
   "cell_type": "markdown",
   "metadata": {},
   "source": [
    "## sequence prediction"
   ]
  },
  {
   "cell_type": "code",
   "execution_count": 1,
   "metadata": {
    "collapsed": false
   },
   "outputs": [],
   "source": [
    "from IPython.display import clear_output\n",
    "\n",
    "import tensorflow as tf\n",
    "from tensorflow import nn\n",
    "import numpy as np\n",
    "import math\n",
    "\n",
    "lstm_size  = 512\n",
    "n_layers   = 3\n",
    "n_epochs   = 10\n",
    "seq_len    = 50\n",
    "batch_size = 50\n",
    "lr = 0.1\n",
    "grad_norm = 5"
   ]
  },
  {
   "cell_type": "markdown",
   "metadata": {},
   "source": [
    "### utils"
   ]
  },
  {
   "cell_type": "code",
   "execution_count": 2,
   "metadata": {
    "collapsed": true
   },
   "outputs": [],
   "source": [
    "def xavier(n_in, n_out):\n",
    "    init_range = 4*math.sqrt(6.0/(n_in + n_out))\n",
    "    return tf.random_uniform([n_in, n_out], -init_range, init_range)"
   ]
  },
  {
   "cell_type": "markdown",
   "metadata": {},
   "source": [
    "### data loading"
   ]
  },
  {
   "cell_type": "code",
   "execution_count": 3,
   "metadata": {
    "collapsed": false
   },
   "outputs": [],
   "source": [
    "with open('shakespeare.txt') as f:\n",
    "    words_full = [c for c in list(f.read())]\n",
    "    vocab = []\n",
    "    for c in words_full:\n",
    "        if c not in vocab:\n",
    "            vocab.append(c)\n",
    "    vocab_size = len(vocab)    \n",
    "    \n",
    "    i_split = int(len(words_full)*0.8)\n",
    "    words_tr = np.array([vocab.index(el) for el in words_full[:i_split]], dtype='int32')\n",
    "    words_te = np.array([vocab.index(el) for el in words_full[i_split:]], dtype='int32')\n",
    "\n",
    "    #make batches\n",
    "    tr_x = words_tr.copy()\n",
    "    #target is just data shifted one element to the right\n",
    "    tr_y = np.roll(words_tr, 1)\n",
    "    sp = [i*batch_size*seq_len for i in range(1,len(words_tr)//(batch_size*seq_len) + 1)]\n",
    "    n_batches = len(tr_x)//(batch_size*seq_len)\n",
    "    if(len(tr_x) % batch_size*seq_len != 0):\n",
    "        # drop last small batch\n",
    "        tr_x = np.array(np.split(tr_x, sp)[:-1]).reshape(n_batches, seq_len, batch_size)\n",
    "        tr_y = np.array(np.split(tr_y, sp)[:-1]).reshape(n_batches, seq_len, batch_size)"
   ]
  },
  {
   "cell_type": "markdown",
   "metadata": {},
   "source": [
    "### model"
   ]
  },
  {
   "cell_type": "code",
   "execution_count": 4,
   "metadata": {
    "collapsed": false
   },
   "outputs": [
    {
     "name": "stderr",
     "output_type": "stream",
     "text": [
      "WARNING:tensorflow:<tensorflow.python.ops.rnn_cell.BasicLSTMCell object at 0x7fb9715e1390>: Using a concatenated state is slower and will soon be deprecated.  Use state_is_tuple=True.\n"
     ]
    }
   ],
   "source": [
    "#create model\n",
    "tf.reset_default_graph()\n",
    "\n",
    "lstm = nn.rnn_cell.BasicLSTMCell(lstm_size)\n",
    "stacked_lstm = nn.rnn_cell.MultiRNNCell([lstm] * n_layers)\n",
    "input_data = tf.placeholder(tf.int32, [batch_size, seq_len])\n",
    "targets = tf.placeholder(tf.int32, [batch_size, seq_len])\n",
    "initial_state = state = stacked_lstm.zero_state(batch_size, tf.float32)\n",
    "embedding = tf.get_variable(\"embedding\", [vocab_size, lstm_size])\n",
    "inputs = tf.nn.embedding_lookup(embedding, input_data)\n",
    "\n",
    "outputs = []\n",
    "for i in range(seq_len):\n",
    "    if i > 0:\n",
    "        tf.get_variable_scope().reuse_variables()\n",
    "    cell_output, state = stacked_lstm(inputs[:,i,:], state)\n",
    "    outputs.append(cell_output)\n",
    "final_state = state\n",
    "\n",
    "output = tf.reshape(tf.concat(1, outputs), [-1, lstm_size])\n",
    "softmax_w = tf.Variable(tf.random_normal([lstm_size, vocab_size], stddev=0.35), dtype=tf.float32)\n",
    "softmax_b = tf.Variable(tf.zeros([vocab_size]), dtype=tf.float32)\n",
    "z = tf.matmul(output, softmax_w) + softmax_b\n",
    "probs = tf.nn.softmax(z)\n",
    "loss = tf.nn.seq2seq.sequence_loss_by_example([z], [tf.reshape(targets, [-1])], [tf.ones([batch_size * seq_len])] )\n",
    "cost = tf.reduce_sum(loss) / batch_size\n",
    "lr = tf.Variable(lr, trainable=False)\n",
    "optimizer = tf.train.GradientDescentOptimizer(lr)\n",
    "tvars = tf.trainable_variables()\n",
    "grads, _ = tf.clip_by_global_norm(tf.gradients(cost, tvars), grad_norm)\n",
    "train_op = optimizer.apply_gradients(zip(grads, tvars))\n"
   ]
  },
  {
   "cell_type": "markdown",
   "metadata": {},
   "source": [
    "### training"
   ]
  },
  {
   "cell_type": "code",
   "execution_count": 5,
   "metadata": {
    "collapsed": false,
    "scrolled": true
   },
   "outputs": [
    {
     "name": "stdout",
     "output_type": "stream",
     "text": [
      "1 2 3 4 5 6 7 8 9 10 11 12 13 14 15 16 17 18 19 20 21 22 23 24 25 26 27 28 29 30 31 \n",
      "Epoch 1, cost per epoch 180.586\n",
      "1 2 3 4 5 6 7 8 9 10 11 12 13 14 15 16 17 18 19 20 21 22 23 24 25 26 27 28 29 30 31 \n",
      "Epoch 2, cost per epoch 162.777\n",
      "1 2 3 4 5 6 7 8 9 10 11 12 13 14 15 16 17 18 19 20 21 22 23 24 25 26 27 28 29 30 31 \n",
      "Epoch 3, cost per epoch 143.804\n",
      "1 2 3 4 5 6 7 8 9 10 11 12 13 14 15 16 17 18 19 20 21 22 23 24 25 26 27 28 29 30 31 \n",
      "Epoch 4, cost per epoch 117.034\n",
      "1 2 3 4 5 6 7 8 9 10 11 12 13 14 15 16 17 18 19 20 21 22 23 24 25 26 27 28 29 30 31 \n",
      "Epoch 5, cost per epoch 89.585\n",
      "1 2 3 4 5 6 7 8 9 10 11 12 13 14 15 16 17 18 19 20 21 22 23 24 25 26 27 28 29 30 31 \n",
      "Epoch 6, cost per epoch 69.214\n",
      "1 2 3 4 5 6 7 8 9 10 11 12 13 14 15 16 17 18 19 20 21 22 23 24 25 26 27 28 29 30 31 \n",
      "Epoch 7, cost per epoch 53.771\n",
      "1 2 3 4 5 6 7 8 9 10 11 12 13 14 15 16 17 18 19 20 21 22 23 24 25 26 27 28 29 30 31 \n",
      "Epoch 8, cost per epoch 42.074\n",
      "1 2 3 4 5 6 7 8 9 10 11 12 13 14 15 16 17 18 19 20 21 22 23 24 25 26 27 28 29 30 31 \n",
      "Epoch 9, cost per epoch 32.852\n",
      "1 2 3 4 5 6 7 8 9 10 11 12 13 14 15 16 17 18 19 20 21 22 23 24 25 26 27 28 29 30 31 \n",
      "Epoch 10, cost per epoch 25.906\n"
     ]
    }
   ],
   "source": [
    "init = tf.initialize_all_variables()\n",
    "saver = tf.train.Saver(tf.all_variables())\n",
    "#train\n",
    "with tf.Session() as s:\n",
    "    s.run(init)\n",
    "    state = initial_state.eval()\n",
    "    for i in range(n_epochs):\n",
    "        ep_cost = 0\n",
    "        for j in range(n_batches):\n",
    "            print(j+1, end=' ')\n",
    "            _, _, co, _ = s.run([output, final_state, cost, train_op], feed_dict={input_data:tr_x[j], targets:tr_y[j], initial_state: state})\n",
    "            ep_cost+=co\n",
    "        print()\n",
    "        print('Epoch %d, cost per epoch %.3f' % (i+1, ep_cost/n_batches))\n",
    "        saver.save(s, 'model')"
   ]
  },
  {
   "cell_type": "markdown",
   "metadata": {},
   "source": [
    "### testing"
   ]
  },
  {
   "cell_type": "code",
   "execution_count": 6,
   "metadata": {
    "collapsed": false
   },
   "outputs": [
    {
     "name": "stderr",
     "output_type": "stream",
     "text": [
      "WARNING:tensorflow:<tensorflow.python.ops.rnn_cell.BasicLSTMCell object at 0x7fb9715f54a8>: Using a concatenated state is slower and will soon be deprecated.  Use state_is_tuple=True.\n"
     ]
    }
   ],
   "source": [
    "#create model\n",
    "tf.reset_default_graph()\n",
    "\n",
    "lstm = nn.rnn_cell.BasicLSTMCell(lstm_size)\n",
    "stacked_lstm = nn.rnn_cell.MultiRNNCell([lstm] * n_layers)\n",
    "input_data = tf.placeholder(tf.int32, [1, 1])\n",
    "initial_state = state = stacked_lstm.zero_state(1, tf.float32)\n",
    "\n",
    "embedding = tf.get_variable(\"embedding\", [vocab_size, lstm_size])\n",
    "inputs = tf.nn.embedding_lookup(embedding, input_data)\n",
    "cell_output, state = stacked_lstm(inputs[:,0,:], state)\n",
    "outputs = [cell_output]\n",
    "final_state = state\n",
    "\n",
    "output = tf.reshape(tf.concat(1, outputs), [-1, lstm_size])\n",
    "softmax_w = tf.Variable(tf.random_normal([lstm_size, vocab_size], stddev=0.35), dtype=tf.float32)\n",
    "softmax_b = tf.Variable(tf.zeros([vocab_size]), dtype=tf.float32)\n",
    "z = tf.matmul(output, softmax_w) + softmax_b\n",
    "probs = tf.nn.softmax(z)"
   ]
  },
  {
   "cell_type": "code",
   "execution_count": 11,
   "metadata": {
    "collapsed": false
   },
   "outputs": [
    {
     "name": "stdout",
     "output_type": "stream",
     "text": [
      "Teeeeeeeeeeeeeeeeeeeeeeeeeeeeeeeeeeeeeeeeeeeeeeeeeee\n"
     ]
    }
   ],
   "source": [
    "init = tf.initialize_all_variables()\n",
    "\n",
    "with tf.Session() as sess:\n",
    "    sess.run(init)\n",
    "    state = initial_state.eval()\n",
    "    saver = tf.train.Saver(tf.all_variables())\n",
    "    ckpt = tf.train.get_checkpoint_state('model')\n",
    "    saver.restore(sess, 'model')\n",
    "\n",
    "    inpt = 'Te'\n",
    "    sample_size = 50\n",
    "    for c in inpt[:-1]:\n",
    "        x = np.zeros((1,1), dtype='int32')\n",
    "        x [0,0] = vocab.index(c)\n",
    "        state = sess.run(final_state, feed_dict={input_data:x, initial_state:state})\n",
    "    \n",
    "    res = inpt\n",
    "    char = inpt[-1]\n",
    "\n",
    "    for i in range(sample_size):\n",
    "        x = np.zeros((1,1), dtype='int32')\n",
    "        x[0, 0] = vocab.index(char)\n",
    "        probabilities, state = sess.run([probs, final_state], feed_dict={input_data:x, initial_state:state})\n",
    "        p = probabilities[0]\n",
    "        sample = np.argmax(p)\n",
    "        pred = vocab[sample]\n",
    "        res += pred\n",
    "        char = pred\n",
    "    print(res)"
   ]
  },
  {
   "cell_type": "markdown",
   "metadata": {},
   "source": [
    "### TODO\n",
    "\n",
    "* Add validation\n",
    "* Add sampling"
   ]
  },
  {
   "cell_type": "code",
   "execution_count": null,
   "metadata": {
    "collapsed": true
   },
   "outputs": [],
   "source": []
  }
 ],
 "metadata": {
  "kernelspec": {
   "display_name": "Python 3",
   "language": "python",
   "name": "python3"
  },
  "language_info": {
   "codemirror_mode": {
    "name": "ipython",
    "version": 3
   },
   "file_extension": ".py",
   "mimetype": "text/x-python",
   "name": "python",
   "nbconvert_exporter": "python",
   "pygments_lexer": "ipython3",
   "version": "3.5.1"
  }
 },
 "nbformat": 4,
 "nbformat_minor": 0
}
